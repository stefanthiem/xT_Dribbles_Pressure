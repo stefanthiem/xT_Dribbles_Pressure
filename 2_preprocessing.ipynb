{
 "cells": [
  {
   "cell_type": "markdown",
   "metadata": {},
   "source": [
    "# Evaluating Dribbling Ability"
   ]
  },
  {
   "cell_type": "markdown",
   "metadata": {},
   "source": [
    "# Table of contents\n",
    "1. [Introduction](#introduction)\n",
    "2. [Data Source](#source)\n",
    "    1. [Data Retrieval](#retrieval)\n",
    "    2. [Data Processing](#processing)\n",
    "3. [Evaluating risk of carry](#risk)\n",
    "    1. [Defining new variables for carries](#risk1)\n",
    "    2. [Defining a new pressure metric for carries](#risk2)\n",
    "    3. [Visualizing carry success probabilities](#risk3)\n",
    "    4. [Training a model to predict success probabilities](#risk4)\n",
    "4. [Evaluating value of carry](#value)\n",
    "    1. [Introducing pressure delta](#value1)\n",
    "    2. [Defining the value metric](#value2)\n"
   ]
  },
  {
   "cell_type": "markdown",
   "metadata": {},
   "source": [
    "# Introduction <a class='anchor' id='introduction'></a>\n",
    "This notebook contains a pipeline to evaluate carries with respect to their risk (probability of failure based on similar carries) and value (combination of advance towards goal and reduction of opponent pressure)."
   ]
  },
  {
   "cell_type": "markdown",
   "metadata": {},
   "source": [
    "# Data Source <a class='anchor' id='source'></a>\n",
    "We use open source data from Statsbomb, which can be imported using the mplsoccer package. "
   ]
  },
  {
   "cell_type": "code",
   "execution_count": 203,
   "metadata": {},
   "outputs": [
    {
     "name": "stdout",
     "output_type": "stream",
     "text": [
      "The autoreload extension is already loaded. To reload it, use:\n",
      "  %reload_ext autoreload\n"
     ]
    }
   ],
   "source": [
    "%matplotlib inline\n",
    "\n",
    "%load_ext autoreload\n",
    "%autoreload 2\n",
    "%autoreload\n",
    "import warnings\n",
    "warnings.filterwarnings(\"ignore\")\n",
    "from mplsoccer import Pitch, FontManager, Sbopen\n",
    "import pandas as pd\n",
    "import numpy as np\n",
    "import matplotlib.pyplot as plt\n",
    "import matplotlib.patheffects as path_effects\n",
    "from sklearn.model_selection import train_test_split\n",
    "import xgboost as xgb\n",
    "from sklearn.metrics import confusion_matrix, classification_report, accuracy_score, f1_score\n",
    "import shap\n",
    "from tqdm import tqdm\n",
    "from statsbombpy import sb\n",
    "import matplotlib.pyplot as plt\n",
    "import matplotlib.colors as mcolors\n",
    "import matplotlib.patheffects as path_effects\n",
    "from scipy.interpolate import interp1d\n",
    "\n",
    "import matplotlib"
   ]
  },
  {
   "cell_type": "markdown",
   "metadata": {},
   "source": [
    "## Data Retrieval <a class='anchor' id='retrieval'></a>\n",
    "We retrieve as many of the 52 matches of the Women's World Cup 2023."
   ]
  },
  {
   "cell_type": "code",
   "execution_count": 204,
   "metadata": {},
   "outputs": [
    {
     "name": "stderr",
     "output_type": "stream",
     "text": [
      "100%|██████████████████████████████████████████████████████████████████████████████████| 64/64 [03:58<00:00,  3.72s/it]\n"
     ]
    }
   ],
   "source": [
    "parser = Sbopen(dataframe=True)\n",
    "competition_id=72\n",
    "season_id=107\n",
    "df_matches = parser.match(competition_id=competition_id,season_id=season_id)\n",
    "\n",
    "match_ids = df_matches.match_id.unique()\n",
    "all_events_df = []\n",
    "all_frames_df = []\n",
    "all_visible_df = []\n",
    "### filter kick off\n",
    "set_pieces = ['Throw-in', 'Free Kick', 'Goal Kick', 'Corner', 'Kick Off', 'Penalty']\n",
    "cols = ['match_id', 'id', \"period\", 'minute', 'second', 'type_name', 'sub_type_name', 'player_name',\n",
    "        'x', 'y', 'end_x', 'end_y', 'outcome_name','team_name','under_pressure','position_name']\n",
    "for match_id in tqdm(match_ids):\n",
    "    event = parser.event(match_id)[0]  # get the first dataframe (events)\n",
    "    event = event.loc[(~event['sub_type_name'].isin(set_pieces))][cols].copy() # remove set-piece event\n",
    "    try: # avoiding JSON parsing errors\n",
    "        frame, visible = parser.frame(match_id)\n",
    "    except:\n",
    "        print(match_id)\n",
    "        pass\n",
    "    all_events_df.append(event)\n",
    "    all_frames_df.append(frame)\n",
    "    all_visible_df.append(visible)\n",
    "events = pd.concat(all_events_df).drop_duplicates()\n",
    "frames = pd.concat(all_frames_df).drop_duplicates()\n",
    "visibles = pd.concat(all_visible_df)\n",
    "events.rename(columns = {\"under_pressure\": \"tagged_pressure\"}, inplace=True)"
   ]
  },
  {
   "cell_type": "markdown",
   "metadata": {},
   "source": [
    "## Evaluating risk of carry <a class='anchor' id='risk'></a>\n",
    "In this section, the risk of a carry is determined by training a XGBoost model to predict the probability p of failure of a particular carry. The risk will then be defined as p, since a high probability of failure implies a high risk and a low probability of failure implies a low risk."
   ]
  },
  {
   "cell_type": "markdown",
   "metadata": {},
   "source": [
    "### Defining new variables for carries <a class='anchor' id='risk1'></a>\n",
    "In the following functions, we define what constitutes a success for a carry, because the Outcome-label of the data is not sufficient as it is rarely filled. Thus we are often looking at the following event to check if a carry was successful. For example, if a player completes a pass after a carry, the carry is evaluated as successful.\n",
    "\n",
    "Note: The definitions for success and failure are tailor-made for carries and cannot simply be transferred to other event data like passes. However, we need to include all event data in the first place order to obtain an appropriate temporal granularity."
   ]
  },
  {
   "cell_type": "markdown",
   "metadata": {},
   "source": [
    "Note: We thought about eliminating events for which the next event is more than ten seconds away. Looking into the data, this was not necessary! Sometimes there are long carries - i.e. from the goalkeeper. More often those carries are unsuccessful - and were labeled as such."
   ]
  },
  {
   "cell_type": "markdown",
   "metadata": {},
   "source": [
    "Note: Every statsbomb dribble is related to a carry, so we merge those related events to one"
   ]
  },
  {
   "cell_type": "code",
   "execution_count": 205,
   "metadata": {},
   "outputs": [],
   "source": [
    "events.sort_values([\"match_id\", \"period\",  \"minute\", \"second\"], inplace=True)\n",
    "\n",
    "rel_events = events[~events[\"type_name\"].isin([\"Pressure\", \"Duel\"])].copy()\n",
    "rel_events[\"gametime_in_seconds\"] = rel_events[\"minute\"] * 60 + rel_events[\"second\"]\n",
    "\n",
    "shifted_events = rel_events.shift(-1)\n",
    "next_match_same_match = rel_events[\"match_id\"] == shifted_events[\"match_id\"]\n",
    "next_player_same_player = rel_events[\"player_name\"] ==shifted_events[\"player_name\"]\n",
    "next_team_same_team = rel_events[\"team_name\"] ==shifted_events[\"team_name\"]\n",
    "\n",
    "success_events = ['Pass','Goal','Dribble','Shot', \"Carry\", \"Ball Receipt\", \"Foul Won\"]\n",
    "next_success = shifted_events[\"type_name\"].isin(success_events)\n",
    "\n",
    "unsuccessful_events = [\"Miscontrol\", \"Dispossessed\", \"Interception\"]\n",
    "next_lost_ball = shifted_events[\"type_name\"].isin(unsuccessful_events)\n",
    "\n",
    "ball_recovery_by_opponent = [\"Ball Recovery\", \"Block\", \"Collected\"]\n",
    "next_ball_recovery_event = shifted_events[\"type_name\"].isin(ball_recovery_by_opponent)\n",
    "\n",
    "foul_by_opponent_or_dribbled_past = [\"Foul Committed\", \"Dribbled Past\"]\n",
    "next_foul_by_opponent_or_dribbled_past = shifted_events[\"type_name\"].isin(foul_by_opponent_or_dribbled_past)\n",
    "\n",
    "successful_outcomes = [\"Won\", \"Success In Play\", \"Claim\", \"Complete\", \"Saved\", \"Saved Twice\", \"Success To Team\", \"Goal\"]\n",
    "unsuccessful_outcomes = [\"Incomplete\", \"Lost\", \"Lost Out\", \"Lost In Play\", \"Off T\", \"Out\", \"Pass Offside\"]\n",
    "\n",
    "event_more_than_ten_seconds_away = shifted_events[\"gametime_in_seconds\"] - rel_events[\"gametime_in_seconds\"]   > 10\n",
    "\n",
    "rel_events[\"Outcome\"] = np.where(\n",
    "    rel_events[\"outcome_name\"].isin(successful_outcomes), 1, \n",
    "    np.where(rel_events[\"outcome_name\"].isin(unsuccessful_outcomes), 0, \n",
    "             np.where(next_match_same_match & next_team_same_team & next_success, 1,\n",
    "                      np.where(next_match_same_match & next_player_same_player & next_lost_ball ,0,\n",
    "                               np.where(next_match_same_match & (~next_team_same_team) & next_success, 0,\n",
    "                                        np.where(next_match_same_match & (~next_team_same_team) & next_ball_recovery_event, 0,\n",
    "                                                 np.where(next_match_same_match & (~next_team_same_team) & next_foul_by_opponent_or_dribbled_past, 1,\n",
    "                                                 2)))))))\n",
    "\n"
   ]
  },
  {
   "cell_type": "code",
   "execution_count": 206,
   "metadata": {},
   "outputs": [],
   "source": [
    "events = events.merge(rel_events[[\"match_id\", \"id\", \"Outcome\"]], how = \"left\", on = [\"match_id\", \"id\"], \n",
    "                     validate =\"one_to_one\")"
   ]
  },
  {
   "cell_type": "code",
   "execution_count": 207,
   "metadata": {},
   "outputs": [],
   "source": [
    "dribble_events = events[events[\"type_name\"]==\"Dribble\"].copy()\n",
    "events = events[events[\"type_name\"]!= \"Dribble\"].copy()\n",
    "events = events.merge(dribble_events[[\"match_id\", \"period\", \"player_name\", \"x\", \"y\", \"Outcome\"]].drop_duplicates(\n",
    "                        subset = [\"match_id\", \"period\", \"player_name\", \"x\", \"y\"]), \n",
    "                                        on = [\"match_id\", \"period\", \"player_name\", \"x\", \"y\"], \n",
    "                                        how = \"left\", validate = \"many_to_one\", suffixes = (\"\", \"_related_dribble\"))\n",
    "dribble_events[\"end_x\"] = dribble_events[\"x\"]\n",
    "dribble_events[\"end_y\"] = dribble_events[\"y\"]\n",
    "events = events.merge(dribble_events[[\"match_id\", \"period\", \"player_name\", \"end_x\", \"end_y\", \"Outcome\"]].drop_duplicates(\n",
    "                        subset = [\"match_id\", \"period\", \"player_name\", \"end_x\", \"end_y\"]), \n",
    "                                        on = [\"match_id\", \"period\", \"player_name\", \"end_x\", \"end_y\"], \n",
    "                                        how = \"left\", validate = \"many_to_one\", suffixes = (\"\", \"_related_dribble_alternative\"))\n",
    "events[\"Outcome\"] = np.where(events[\"Outcome_related_dribble_alternative\"].notna(),events[\"Outcome_related_dribble_alternative\"],\n",
    "                            np.where(events[\"Outcome_related_dribble\"].notna(), events[\"Outcome_related_dribble\"], \n",
    "                                    events[\"Outcome\"]))\n",
    "events.drop(columns = [\"Outcome_related_dribble\", \"Outcome_related_dribble_alternative\"], inplace=True)"
   ]
  },
  {
   "cell_type": "markdown",
   "metadata": {},
   "source": [
    "# Calculating metrics based on active player"
   ]
  },
  {
   "cell_type": "code",
   "execution_count": 208,
   "metadata": {},
   "outputs": [],
   "source": [
    "events.sort_values([\"match_id\", \"id\"], inplace=True)\n",
    "\n",
    "rel_events = events[events[\"type_name\"] != \"Pressure\"]\n",
    "\n",
    "shifted_events = rel_events.shift(-1)\n",
    "next_match_same_match = rel_events[\"match_id\"] == shifted_events[\"match_id\"]\n",
    "next_player_same_player = rel_events[\"player_name\"] ==shifted_events[\"player_name\"]\n",
    "next_success = shifted_events[\"type_name\"].isin(['Pass','Goal','Dribble','Shot'])\n",
    "\n",
    "next_miscontrol = shifted_events[\"type_name\"]== \"Miscontrol\"\n",
    "\n",
    "\n",
    "rel_events[\"Outcome_new\"] = np.where(next_match_same_match & next_player_same_player & next_success, 1,\n",
    "                                np.where(next_match_same_match & next_player_same_player & next_miscontrol ,0 ,2))"
   ]
  },
  {
   "cell_type": "code",
   "execution_count": 209,
   "metadata": {},
   "outputs": [],
   "source": [
    "active_player_positions = frames[frames[\"actor\"]].drop(columns = [\"teammate\", \"actor\"])\n",
    "other_positions =  frames[~frames[\"actor\"]]"
   ]
  },
  {
   "cell_type": "code",
   "execution_count": 210,
   "metadata": {},
   "outputs": [],
   "source": [
    "# this should not be necessary, but due to a data error one player has two positions for one event\n",
    "active_player_positions.drop_duplicates(subset = [\"match_id\", \"id\"], keep=\"first\", inplace=True)"
   ]
  },
  {
   "cell_type": "code",
   "execution_count": 211,
   "metadata": {},
   "outputs": [],
   "source": [
    "all_positions = other_positions.merge(active_player_positions, on = [\"match_id\", \"id\"], \n",
    "                            validate = \"many_to_one\", suffixes = (\"\", \"_active_player\"))\n"
   ]
  },
  {
   "cell_type": "code",
   "execution_count": 212,
   "metadata": {},
   "outputs": [],
   "source": [
    "all_positions[\"distance_to_active_player\"] = np.sqrt(\n",
    "    (all_positions[\"x\"] - all_positions[\"x_active_player\"])**2 + \n",
    "    (all_positions[\"y\"] - all_positions[\"y_active_player\"])**2)\n"
   ]
  },
  {
   "cell_type": "markdown",
   "metadata": {},
   "source": [
    "Own pressure calculation based on surrounding opponents at start location of a dribble: it is a piecewise linear function mapping distances to pressures, ensuring a minimum of zero and a maximum of 1, derived from specific distance-pressure pairs (0 m → 1, 2 m → 0.5, 10 m → 0)."
   ]
  },
  {
   "cell_type": "code",
   "execution_count": 213,
   "metadata": {},
   "outputs": [],
   "source": [
    "# Define the points\n",
    "distances = np.array([0, 2, 10])\n",
    "pressures = np.array([1, 0.5, 0])\n",
    "\n",
    "# Interpolate between the points\n",
    "linear_interp = interp1d(distances, pressures, kind='linear', fill_value='extrapolate')\n",
    "\n",
    "def calculate_pressure(distances):\n",
    "    distances = np.maximum(distances, 0)  # Ensure distances are non-negative\n",
    "    calculated_pressures = linear_interp(distances)\n",
    "    return np.maximum(calculated_pressures, 0)  # Ensure pressures are non-negative\n"
   ]
  },
  {
   "cell_type": "code",
   "execution_count": 214,
   "metadata": {},
   "outputs": [],
   "source": [
    "all_positions[\"player_within_5m\"] = all_positions[\"distance_to_active_player\"]<=5\n",
    "all_positions[\"player_within_10m\"] = all_positions[\"distance_to_active_player\"]<=10\n",
    "all_positions[\"player_within_20m\"] = all_positions[\"distance_to_active_player\"]<=20\n",
    "all_positions[\"calculated_pressure\"] = calculate_pressure(all_positions[\"distance_to_active_player\"])\n",
    "all_positions[\"player_closer_to_attacked_goal\"] = all_positions[\"x\"] >= all_positions[\"x_active_player\"]\n",
    "all_positions[\"player_in_positions\"] = 1"
   ]
  },
  {
   "cell_type": "code",
   "execution_count": 215,
   "metadata": {},
   "outputs": [],
   "source": [
    "metrics_helper = all_positions.groupby([\"match_id\", \"id\", \"teammate\"], as_index=False).sum()"
   ]
  },
  {
   "cell_type": "code",
   "execution_count": 216,
   "metadata": {},
   "outputs": [],
   "source": [
    "own_team_metrics = metrics_helper[metrics_helper[\"teammate\"]]\n",
    "other_team_metrics = metrics_helper[~metrics_helper[\"teammate\"]]\n",
    "metrics = other_team_metrics.merge(own_team_metrics, on = [\"match_id\", \"id\"], suffixes = (\"\", \"_own_team\"), \n",
    "                                  validate = \"one_to_one\", how = \"left\")\n"
   ]
  },
  {
   "cell_type": "code",
   "execution_count": 217,
   "metadata": {},
   "outputs": [],
   "source": [
    "metrics[\"numerical_superiority_5m\"] = metrics[\"player_within_5m_own_team\"] - metrics[\"player_within_5m\"]\n",
    "metrics[\"numerical_superiority_10m\"] = metrics[\"player_within_10m_own_team\"] - metrics[\"player_within_10m\"]\n",
    "metrics[\"numerical_superiority_20m\"] = metrics[\"player_within_20m_own_team\"] - metrics[\"player_within_20m\"]\n",
    "metrics[\"opponents_within_5m\"] =metrics[\"player_within_5m\"]\n",
    "metrics[\"opponents_within_10m\"] =metrics[\"player_within_10m\"]\n",
    "metrics[\"opponents_within_20m\"] =metrics[\"player_within_20m\"]\n"
   ]
  },
  {
   "cell_type": "code",
   "execution_count": 218,
   "metadata": {},
   "outputs": [],
   "source": [
    "metrics_list = [\"numerical_superiority_5m\", \"numerical_superiority_10m\",\n",
    "               \"opponents_within_5m\", \"opponents_within_10m\",\n",
    "               \"calculated_pressure\"]\n"
   ]
  },
  {
   "cell_type": "code",
   "execution_count": 219,
   "metadata": {},
   "outputs": [],
   "source": [
    "metrics = metrics[[\"match_id\", \"id\"] + metrics_list ]"
   ]
  },
  {
   "cell_type": "code",
   "execution_count": 220,
   "metadata": {},
   "outputs": [
    {
     "data": {
      "text/html": [
       "<div>\n",
       "<style scoped>\n",
       "    .dataframe tbody tr th:only-of-type {\n",
       "        vertical-align: middle;\n",
       "    }\n",
       "\n",
       "    .dataframe tbody tr th {\n",
       "        vertical-align: top;\n",
       "    }\n",
       "\n",
       "    .dataframe thead th {\n",
       "        text-align: right;\n",
       "    }\n",
       "</style>\n",
       "<table border=\"1\" class=\"dataframe\">\n",
       "  <thead>\n",
       "    <tr style=\"text-align: right;\">\n",
       "      <th></th>\n",
       "      <th>match_id</th>\n",
       "      <th>id</th>\n",
       "      <th>numerical_superiority_5m</th>\n",
       "      <th>numerical_superiority_10m</th>\n",
       "      <th>opponents_within_5m</th>\n",
       "      <th>opponents_within_10m</th>\n",
       "      <th>calculated_pressure</th>\n",
       "    </tr>\n",
       "  </thead>\n",
       "  <tbody>\n",
       "    <tr>\n",
       "      <th>0</th>\n",
       "      <td>3893787</td>\n",
       "      <td>001bc880-a4c9-47bc-86c0-74bd7a84c346</td>\n",
       "      <td>-1.0</td>\n",
       "      <td>-2.0</td>\n",
       "      <td>1</td>\n",
       "      <td>2</td>\n",
       "      <td>0.566568</td>\n",
       "    </tr>\n",
       "    <tr>\n",
       "      <th>1</th>\n",
       "      <td>3893787</td>\n",
       "      <td>0027f1d1-a13a-42e1-9dde-81cedba718f9</td>\n",
       "      <td>-1.0</td>\n",
       "      <td>-2.0</td>\n",
       "      <td>1</td>\n",
       "      <td>2</td>\n",
       "      <td>0.821510</td>\n",
       "    </tr>\n",
       "  </tbody>\n",
       "</table>\n",
       "</div>"
      ],
      "text/plain": [
       "   match_id                                    id  numerical_superiority_5m  \\\n",
       "0   3893787  001bc880-a4c9-47bc-86c0-74bd7a84c346                      -1.0   \n",
       "1   3893787  0027f1d1-a13a-42e1-9dde-81cedba718f9                      -1.0   \n",
       "\n",
       "   numerical_superiority_10m  opponents_within_5m  opponents_within_10m  \\\n",
       "0                       -2.0                    1                     2   \n",
       "1                       -2.0                    1                     2   \n",
       "\n",
       "   calculated_pressure  \n",
       "0             0.566568  \n",
       "1             0.821510  "
      ]
     },
     "execution_count": 220,
     "metadata": {},
     "output_type": "execute_result"
    }
   ],
   "source": [
    "metrics.head(2)"
   ]
  },
  {
   "cell_type": "markdown",
   "metadata": {},
   "source": [
    "### Defining an advanced pressure metric for carries <a class='anchor' id='risk2'></a>\n",
    "We define the pressure on the ball-carrier in a different and more elaborate sense than before. In order to do so, we draw upon the spatial position data and, for each frame, consider all players within a radius of five meters to the carrier. Then, we add up the reciprocals of the distances (a small distance adds a higher value to the pressure variable). In a later step, those values are normalized in relation to the calculated values for all other events."
   ]
  },
  {
   "cell_type": "code",
   "execution_count": 221,
   "metadata": {},
   "outputs": [],
   "source": [
    "events = events.merge(metrics, on = [\"match_id\", \"id\"], how = \"left\", validate = \"one_to_one\").fillna(0)\n"
   ]
  },
  {
   "cell_type": "code",
   "execution_count": 222,
   "metadata": {},
   "outputs": [
    {
     "data": {
      "text/plain": [
       "<Axes: >"
      ]
     },
     "execution_count": 222,
     "metadata": {},
     "output_type": "execute_result"
    },
    {
     "data": {
      "image/png": "[encoded data removed]",
      "text/plain": [
       "<Figure size 640x480 with 1 Axes>"
      ]
     },
     "metadata": {},
     "output_type": "display_data"
    }
   ],
   "source": [
    "### Summarizing the new variable\n",
    "\n",
    "events[\"calculated_pressure\"].hist()"
   ]
  },
  {
   "cell_type": "markdown",
   "metadata": {},
   "source": [
    "Based on the advanced pressure metric, we determine how much pressure changes in the course of an event. The pressure delta hence indicates if a player is able to resolve pressure with their action/carry (negative pressure delta), or if they maneuver into pressure (positive pressure delta).\n",
    "This metric will be used later in the section on the value of a carry."
   ]
  },
  {
   "cell_type": "code",
   "execution_count": 223,
   "metadata": {},
   "outputs": [],
   "source": [
    "events.sort_values([\"match_id\", \"period\", \"minute\", \"second\"],inplace=True)\n",
    "shifted_events = events.shift(-1)\n",
    "\n",
    "events[\"Pressure_Delta\"]= np.where(events[\"match_id\"] == shifted_events[\"match_id\"],\n",
    "                                  shifted_events[\"calculated_pressure\"] - events[\"calculated_pressure\"], np.nan)\n"
   ]
  },
  {
   "cell_type": "markdown",
   "metadata": {},
   "source": [
    "# calculating more features based on following events"
   ]
  },
  {
   "cell_type": "code",
   "execution_count": 224,
   "metadata": {},
   "outputs": [
    {
     "data": {
      "text/plain": [
       "array(['Half Start', 'Starting XI', 'Ball Receipt', 'Carry', 'Pass',\n",
       "       'Pressure', 'Interception', 'Duel', 'Block', 'Ball Recovery',\n",
       "       'Clearance', 'Dispossessed', 'Miscontrol', 'Shot', 'Goal Keeper',\n",
       "       'Offside', 'Dribbled Past', 'Foul Committed', 'Foul Won', 'Shield',\n",
       "       'Half End', 'Substitution', 'Injury Stoppage', '50/50',\n",
       "       'Player Off', 'Player On', 'Bad Behaviour', 'Referee Ball-Drop',\n",
       "       'Tactical Shift', 'Error', 'Own Goal Against', 'Own Goal For'],\n",
       "      dtype=object)"
      ]
     },
     "execution_count": 224,
     "metadata": {},
     "output_type": "execute_result"
    }
   ],
   "source": [
    "events[\"type_name\"].unique()"
   ]
  },
  {
   "cell_type": "code",
   "execution_count": 225,
   "metadata": {},
   "outputs": [],
   "source": [
    "doing_something_with_ball_events = ['Carry', 'Ball Receipt', 'Pass',\n",
    "       'Duel', 'Ball Recovery', 'Miscontrol', 'Dribble',\n",
    "       'Clearance', 'Foul Won', 'Dispossessed', 'Interception', 'Shot', 'Block',\n",
    "       'Shield', 'Referee Ball-Drop', '50/50', 'Offside',  'Own Goal For']\n",
    "not_doing_something_with_ball_events = ['Starting XI', 'Half Start', 'Pressure', 'Foul Committed',\n",
    "       'Goal Keeper', 'Tactical Shift', 'Half End', 'Substitution','Dribbled Past',\n",
    "       'Injury Stoppage', 'Error', 'Player Off',\n",
    "       'Player On', 'Bad Behaviour', \n",
    "       'Own Goal Against']\n",
    "if len([x for x in events[\"type_name\"].unique() if x not in doing_something_with_ball_events + not_doing_something_with_ball_events]) > 0:\n",
    "    raise Exception(\"Not all events were classified\")\n",
    "\n",
    "if len([x for x in doing_something_with_ball_events if x in not_doing_something_with_ball_events]) > 0:\n",
    "    print([x for x in doing_something_with_ball_events if x in not_doing_something_with_ball_events])\n",
    "    raise Exception(\"Not all events were classified 3\")\n",
    "    \n",
    "active_events_to_eval_if_success_within_next_events = ['Carry', 'Pass',\n",
    "       'Duel', 'Ball Recovery', 'Miscontrol', 'Dribble', 'Clearance', 'Foul Won',\n",
    "       'Interception', 'Shot', 'Block', 'Shield', 'Referee Ball-Drop', '50/50', 'Offside',  'Own Goal For']\n",
    "ignored_doing_something_with_ball_events = [\n",
    "    'Ball Receipt', \"Dispossessed\", \n",
    "]\n",
    "if len(active_events_to_eval_if_success_within_next_events) + len(ignored_doing_something_with_ball_events) != len(doing_something_with_ball_events):\n",
    "    raise Exception(\"Not all events were classified here\")"
   ]
  },
  {
   "cell_type": "markdown",
   "metadata": {},
   "source": [
    "# calculate metrics based on event"
   ]
  },
  {
   "cell_type": "code",
   "execution_count": 226,
   "metadata": {},
   "outputs": [],
   "source": [
    "events[\"dribbling_towards_opponent_goal\"] = (events[\"end_x\"] > events[\"x\"])*1"
   ]
  },
  {
   "cell_type": "code",
   "execution_count": 227,
   "metadata": {},
   "outputs": [
    {
     "data": {
      "text/html": [
       "<div>\n",
       "<style scoped>\n",
       "    .dataframe tbody tr th:only-of-type {\n",
       "        vertical-align: middle;\n",
       "    }\n",
       "\n",
       "    .dataframe tbody tr th {\n",
       "        vertical-align: top;\n",
       "    }\n",
       "\n",
       "    .dataframe thead th {\n",
       "        text-align: right;\n",
       "    }\n",
       "</style>\n",
       "<table border=\"1\" class=\"dataframe\">\n",
       "  <thead>\n",
       "    <tr style=\"text-align: right;\">\n",
       "      <th></th>\n",
       "      <th>match_id</th>\n",
       "      <th>id</th>\n",
       "      <th>period</th>\n",
       "      <th>minute</th>\n",
       "      <th>second</th>\n",
       "      <th>type_name</th>\n",
       "      <th>sub_type_name</th>\n",
       "      <th>player_name</th>\n",
       "      <th>x</th>\n",
       "      <th>y</th>\n",
       "      <th>...</th>\n",
       "      <th>tagged_pressure</th>\n",
       "      <th>position_name</th>\n",
       "      <th>Outcome</th>\n",
       "      <th>numerical_superiority_5m</th>\n",
       "      <th>numerical_superiority_10m</th>\n",
       "      <th>opponents_within_5m</th>\n",
       "      <th>opponents_within_10m</th>\n",
       "      <th>calculated_pressure</th>\n",
       "      <th>Pressure_Delta</th>\n",
       "      <th>dribbling_towards_opponent_goal</th>\n",
       "    </tr>\n",
       "  </thead>\n",
       "  <tbody>\n",
       "    <tr>\n",
       "      <th>20</th>\n",
       "      <td>3893787</td>\n",
       "      <td>01cf8840-d0f8-464a-ba89-c156b67f86bb</td>\n",
       "      <td>1</td>\n",
       "      <td>0</td>\n",
       "      <td>0</td>\n",
       "      <td>Half Start</td>\n",
       "      <td>0</td>\n",
       "      <td>0</td>\n",
       "      <td>0.0</td>\n",
       "      <td>0.0</td>\n",
       "      <td>...</td>\n",
       "      <td>0.0</td>\n",
       "      <td>0</td>\n",
       "      <td>2.0</td>\n",
       "      <td>0.0</td>\n",
       "      <td>0.0</td>\n",
       "      <td>0.0</td>\n",
       "      <td>0.0</td>\n",
       "      <td>0.0</td>\n",
       "      <td>0.0</td>\n",
       "      <td>0</td>\n",
       "    </tr>\n",
       "    <tr>\n",
       "      <th>366</th>\n",
       "      <td>3893787</td>\n",
       "      <td>214905b4-b4ae-46cf-872d-8d07fa95386c</td>\n",
       "      <td>1</td>\n",
       "      <td>0</td>\n",
       "      <td>0</td>\n",
       "      <td>Starting XI</td>\n",
       "      <td>0</td>\n",
       "      <td>0</td>\n",
       "      <td>0.0</td>\n",
       "      <td>0.0</td>\n",
       "      <td>...</td>\n",
       "      <td>0.0</td>\n",
       "      <td>0</td>\n",
       "      <td>2.0</td>\n",
       "      <td>0.0</td>\n",
       "      <td>0.0</td>\n",
       "      <td>0.0</td>\n",
       "      <td>0.0</td>\n",
       "      <td>0.0</td>\n",
       "      <td>0.0</td>\n",
       "      <td>0</td>\n",
       "    </tr>\n",
       "  </tbody>\n",
       "</table>\n",
       "<p>2 rows × 24 columns</p>\n",
       "</div>"
      ],
      "text/plain": [
       "     match_id                                    id  period  minute  second  \\\n",
       "20    3893787  01cf8840-d0f8-464a-ba89-c156b67f86bb       1       0       0   \n",
       "366   3893787  214905b4-b4ae-46cf-872d-8d07fa95386c       1       0       0   \n",
       "\n",
       "       type_name sub_type_name player_name    x    y  ...  tagged_pressure  \\\n",
       "20    Half Start             0           0  0.0  0.0  ...              0.0   \n",
       "366  Starting XI             0           0  0.0  0.0  ...              0.0   \n",
       "\n",
       "     position_name Outcome numerical_superiority_5m  \\\n",
       "20               0     2.0                      0.0   \n",
       "366              0     2.0                      0.0   \n",
       "\n",
       "     numerical_superiority_10m opponents_within_5m  opponents_within_10m  \\\n",
       "20                         0.0                 0.0                   0.0   \n",
       "366                        0.0                 0.0                   0.0   \n",
       "\n",
       "     calculated_pressure  Pressure_Delta  dribbling_towards_opponent_goal  \n",
       "20                   0.0             0.0                                0  \n",
       "366                  0.0             0.0                                0  \n",
       "\n",
       "[2 rows x 24 columns]"
      ]
     },
     "execution_count": 227,
     "metadata": {},
     "output_type": "execute_result"
    }
   ],
   "source": [
    "events.head(2)"
   ]
  },
  {
   "cell_type": "markdown",
   "metadata": {},
   "source": [
    "### Visualizing carry success probabilities <a class='anchor' id='risk4'></a>"
   ]
  },
  {
   "cell_type": "code",
   "execution_count": 228,
   "metadata": {},
   "outputs": [],
   "source": [
    "pitch = Pitch(pitch_type='statsbomb',line_zorder=2)\n",
    "bins = (pitch.dim.positional_x, pitch.dim.positional_y)\n",
    "bins = (np.array([0.,40.,80.,120.]),np.array([0.,18.,30.,50.,62.,80.])) "
   ]
  },
  {
   "cell_type": "code",
   "execution_count": 229,
   "metadata": {},
   "outputs": [],
   "source": [
    "carries = events[events['type_name'].isin([\"Dribble\", \"Carry\"])]\n",
    "carries = carries[carries['Outcome'].isin([0,1])]\n",
    "carries[\"num_carries\"] = 1"
   ]
  },
  {
   "cell_type": "code",
   "execution_count": 230,
   "metadata": {},
   "outputs": [
    {
     "name": "stdout",
     "output_type": "stream",
     "text": [
      "Outcome\n",
      "False    46663\n",
      "Name: count, dtype: int64\n",
      "x\n",
      "False    46663\n",
      "Name: count, dtype: int64\n",
      "y\n",
      "False    46663\n",
      "Name: count, dtype: int64\n",
      "y_symm\n",
      "False    46663\n",
      "Name: count, dtype: int64\n"
     ]
    }
   ],
   "source": [
    "### Introducing a new variable to reflect vertical symmetry on the field and confirming Data Integrity\n",
    "\n",
    "carries['y_symm'] = abs(carries['y']-40) # Note: the dimension of the statsbombpy pitch are 120x80\n",
    "carries[\"y_upper_half\"] = ((carries['y']-40) > 0 )*1\n",
    "\n",
    "print(carries['Outcome'].isna().value_counts())\n",
    "print(carries['x'].isna().value_counts())\n",
    "print(carries['y'].isna().value_counts())\n",
    "print(carries['y_symm'].isna().value_counts())"
   ]
  },
  {
   "cell_type": "markdown",
   "metadata": {},
   "source": [
    "### Training a model to predict success probabilities <a class='anchor' id='risk5'></a>\n",
    "\n",
    "We train a XGBoost model on input features to obtain predictions for success probabilities of a carry based on its characteristics (such as position on the field).\n",
    "\n",
    "Note: We tried several other classifiers as well, XGB performed best. Hyperparameter and feature optimization was also done."
   ]
  },
  {
   "cell_type": "code",
   "execution_count": 231,
   "metadata": {},
   "outputs": [],
   "source": [
    "carry_training_data = carries.reset_index(drop=True)"
   ]
  },
  {
   "cell_type": "markdown",
   "metadata": {},
   "source": [
    "features were optimized before, correlated and unuseful features were removed. Thus the final features can be seen in the following:"
   ]
  },
  {
   "cell_type": "code",
   "execution_count": 232,
   "metadata": {},
   "outputs": [],
   "source": [
    "### Creating training and test data\n",
    "\n",
    "## features were optimized before, correlated \n",
    "## and unuseful features (such as opponents_within_10m, which could not improve the model) were removed\n",
    "\n",
    "features = ['x','y_symm',\n",
    "            \"dribbling_towards_opponent_goal\", \"numerical_superiority_10m\", \"calculated_pressure\", \"tagged_pressure\"]\n",
    "target = ['Outcome']\n",
    "\n",
    "\n",
    "X = carry_training_data[features]\n",
    "y = carry_training_data[target]\n",
    "\n",
    "X_train, X_test, y_train, y_test = train_test_split(X, y, test_size=0.3, random_state=42) # 70% training and 30% test"
   ]
  },
  {
   "cell_type": "code",
   "execution_count": 233,
   "metadata": {},
   "outputs": [
    {
     "data": {
      "text/plain": [
       "(46663, 1)"
      ]
     },
     "execution_count": 233,
     "metadata": {},
     "output_type": "execute_result"
    }
   ],
   "source": [
    "y.shape"
   ]
  },
  {
   "cell_type": "code",
   "execution_count": 234,
   "metadata": {},
   "outputs": [
    {
     "data": {
      "text/plain": [
       "(13999, 1)"
      ]
     },
     "execution_count": 234,
     "metadata": {},
     "output_type": "execute_result"
    }
   ],
   "source": [
    "y_test.shape"
   ]
  },
  {
   "cell_type": "code",
   "execution_count": 235,
   "metadata": {},
   "outputs": [
    {
     "data": {
      "text/plain": [
       "Outcome    12518.0\n",
       "dtype: float64"
      ]
     },
     "execution_count": 235,
     "metadata": {},
     "output_type": "execute_result"
    }
   ],
   "source": [
    "y_test.sum()"
   ]
  },
  {
   "cell_type": "code",
   "execution_count": 236,
   "metadata": {
    "scrolled": true
   },
   "outputs": [
    {
     "data": {
      "text/html": [
       "<style>#sk-container-id-4 {color: black;}#sk-container-id-4 pre{padding: 0;}#sk-container-id-4 div.sk-toggleable {background-color: white;}#sk-container-id-4 label.sk-toggleable__label {cursor: pointer;display: block;width: 100%;margin-bottom: 0;padding: 0.3em;box-sizing: border-box;text-align: center;}#sk-container-id-4 label.sk-toggleable__label-arrow:before {content: \"▸\";float: left;margin-right: 0.25em;color: #696969;}#sk-container-id-4 label.sk-toggleable__label-arrow:hover:before {color: black;}#sk-container-id-4 div.sk-estimator:hover label.sk-toggleable__label-arrow:before {color: black;}#sk-container-id-4 div.sk-toggleable__content {max-height: 0;max-width: 0;overflow: hidden;text-align: left;background-color: #f0f8ff;}#sk-container-id-4 div.sk-toggleable__content pre {margin: 0.2em;color: black;border-radius: 0.25em;background-color: #f0f8ff;}#sk-container-id-4 input.sk-toggleable__control:checked~div.sk-toggleable__content {max-height: 200px;max-width: 100%;overflow: auto;}#sk-container-id-4 input.sk-toggleable__control:checked~label.sk-toggleable__label-arrow:before {content: \"▾\";}#sk-container-id-4 div.sk-estimator input.sk-toggleable__control:checked~label.sk-toggleable__label {background-color: #d4ebff;}#sk-container-id-4 div.sk-label input.sk-toggleable__control:checked~label.sk-toggleable__label {background-color: #d4ebff;}#sk-container-id-4 input.sk-hidden--visually {border: 0;clip: rect(1px 1px 1px 1px);clip: rect(1px, 1px, 1px, 1px);height: 1px;margin: -1px;overflow: hidden;padding: 0;position: absolute;width: 1px;}#sk-container-id-4 div.sk-estimator {font-family: monospace;background-color: #f0f8ff;border: 1px dotted black;border-radius: 0.25em;box-sizing: border-box;margin-bottom: 0.5em;}#sk-container-id-4 div.sk-estimator:hover {background-color: #d4ebff;}#sk-container-id-4 div.sk-parallel-item::after {content: \"\";width: 100%;border-bottom: 1px solid gray;flex-grow: 1;}#sk-container-id-4 div.sk-label:hover label.sk-toggleable__label {background-color: #d4ebff;}#sk-container-id-4 div.sk-serial::before {content: \"\";position: absolute;border-left: 1px solid gray;box-sizing: border-box;top: 0;bottom: 0;left: 50%;z-index: 0;}#sk-container-id-4 div.sk-serial {display: flex;flex-direction: column;align-items: center;background-color: white;padding-right: 0.2em;padding-left: 0.2em;position: relative;}#sk-container-id-4 div.sk-item {position: relative;z-index: 1;}#sk-container-id-4 div.sk-parallel {display: flex;align-items: stretch;justify-content: center;background-color: white;position: relative;}#sk-container-id-4 div.sk-item::before, #sk-container-id-4 div.sk-parallel-item::before {content: \"\";position: absolute;border-left: 1px solid gray;box-sizing: border-box;top: 0;bottom: 0;left: 50%;z-index: -1;}#sk-container-id-4 div.sk-parallel-item {display: flex;flex-direction: column;z-index: 1;position: relative;background-color: white;}#sk-container-id-4 div.sk-parallel-item:first-child::after {align-self: flex-end;width: 50%;}#sk-container-id-4 div.sk-parallel-item:last-child::after {align-self: flex-start;width: 50%;}#sk-container-id-4 div.sk-parallel-item:only-child::after {width: 0;}#sk-container-id-4 div.sk-dashed-wrapped {border: 1px dashed gray;margin: 0 0.4em 0.5em 0.4em;box-sizing: border-box;padding-bottom: 0.4em;background-color: white;}#sk-container-id-4 div.sk-label label {font-family: monospace;font-weight: bold;display: inline-block;line-height: 1.2em;}#sk-container-id-4 div.sk-label-container {text-align: center;}#sk-container-id-4 div.sk-container {/* jupyter's `normalize.less` sets `[hidden] { display: none; }` but bootstrap.min.css set `[hidden] { display: none !important; }` so we also need the `!important` here to be able to override the default hidden behavior on the sphinx rendered scikit-learn.org. See: https://github.com/scikit-learn/scikit-learn/issues/21755 */display: inline-block !important;position: relative;}#sk-container-id-4 div.sk-text-repr-fallback {display: none;}</style><div id=\"sk-container-id-4\" class=\"sk-top-container\"><div class=\"sk-text-repr-fallback\"><pre>XGBClassifier(base_score=None, booster=None, callbacks=None,\n",
       "              colsample_bylevel=None, colsample_bynode=None,\n",
       "              colsample_bytree=None, device=None, early_stopping_rounds=None,\n",
       "              enable_categorical=False, eta=0.1, eval_metric=None,\n",
       "              feature_types=None, gamma=None, grow_policy=None,\n",
       "              importance_type=None, interaction_constraints=None,\n",
       "              learning_rate=None, max_bin=None, max_cat_threshold=None,\n",
       "              max_cat_to_onehot=None, max_delta_step=None, max_depth=None,\n",
       "              max_leaves=None, min_child_weight=None, missing=nan,\n",
       "              monotone_constraints=None, multi_strategy=None, n_estimators=1000,\n",
       "              n_jobs=None, num_parallel_tree=None, ...)</pre><b>In a Jupyter environment, please rerun this cell to show the HTML representation or trust the notebook. <br />On GitHub, the HTML representation is unable to render, please try loading this page with nbviewer.org.</b></div><div class=\"sk-container\" hidden><div class=\"sk-item\"><div class=\"sk-estimator sk-toggleable\"><input class=\"sk-toggleable__control sk-hidden--visually\" id=\"sk-estimator-id-4\" type=\"checkbox\" checked><label for=\"sk-estimator-id-4\" class=\"sk-toggleable__label sk-toggleable__label-arrow\">XGBClassifier</label><div class=\"sk-toggleable__content\"><pre>XGBClassifier(base_score=None, booster=None, callbacks=None,\n",
       "              colsample_bylevel=None, colsample_bynode=None,\n",
       "              colsample_bytree=None, device=None, early_stopping_rounds=None,\n",
       "              enable_categorical=False, eta=0.1, eval_metric=None,\n",
       "              feature_types=None, gamma=None, grow_policy=None,\n",
       "              importance_type=None, interaction_constraints=None,\n",
       "              learning_rate=None, max_bin=None, max_cat_threshold=None,\n",
       "              max_cat_to_onehot=None, max_delta_step=None, max_depth=None,\n",
       "              max_leaves=None, min_child_weight=None, missing=nan,\n",
       "              monotone_constraints=None, multi_strategy=None, n_estimators=1000,\n",
       "              n_jobs=None, num_parallel_tree=None, ...)</pre></div></div></div></div></div>"
      ],
      "text/plain": [
       "XGBClassifier(base_score=None, booster=None, callbacks=None,\n",
       "              colsample_bylevel=None, colsample_bynode=None,\n",
       "              colsample_bytree=None, device=None, early_stopping_rounds=None,\n",
       "              enable_categorical=False, eta=0.1, eval_metric=None,\n",
       "              feature_types=None, gamma=None, grow_policy=None,\n",
       "              importance_type=None, interaction_constraints=None,\n",
       "              learning_rate=None, max_bin=None, max_cat_threshold=None,\n",
       "              max_cat_to_onehot=None, max_delta_step=None, max_depth=None,\n",
       "              max_leaves=None, min_child_weight=None, missing=nan,\n",
       "              monotone_constraints=None, multi_strategy=None, n_estimators=1000,\n",
       "              n_jobs=None, num_parallel_tree=None, ...)"
      ]
     },
     "execution_count": 236,
     "metadata": {},
     "output_type": "execute_result"
    }
   ],
   "source": [
    "\n",
    "# Creating the XGB Classifier and training it on the training data\n",
    "\n",
    "#file_name = \"xgboost_carries.pkl\"\n",
    "#if os.path.exists(file_name):\n",
    "#    xgb_model = pickle.load(open(file_name, \"rb\"))\n",
    "#else:\n",
    "xgb_model = xgb.XGBClassifier(n_estimators = 1000, eta = 0.1, \n",
    "                              scale_pos_weight=np.sqrt((y_train[\"Outcome\"]==0).sum()/(y_train[\"Outcome\"]==1).sum()),\n",
    "                              random_state = 100)\n",
    "xgb_model.fit(X_train, y_train,\n",
    "        verbose = True)\n",
    "#pickle.dump(xgb_model, open(file_name, \"wb\"))\n",
    "\n"
   ]
  },
  {
   "cell_type": "markdown",
   "metadata": {},
   "source": [
    "The correlations show that the calculated pressure which measures the pressure at the beginning of an event is not too highly correlated with the tagged Pressure from the event data. That is given by human labeling and thus indicates if there is pressure at any time of the carry. Both bring value to our model."
   ]
  },
  {
   "cell_type": "code",
   "execution_count": 237,
   "metadata": {},
   "outputs": [
    {
     "data": {
      "text/html": [
       "<div>\n",
       "<style scoped>\n",
       "    .dataframe tbody tr th:only-of-type {\n",
       "        vertical-align: middle;\n",
       "    }\n",
       "\n",
       "    .dataframe tbody tr th {\n",
       "        vertical-align: top;\n",
       "    }\n",
       "\n",
       "    .dataframe thead th {\n",
       "        text-align: right;\n",
       "    }\n",
       "</style>\n",
       "<table border=\"1\" class=\"dataframe\">\n",
       "  <thead>\n",
       "    <tr style=\"text-align: right;\">\n",
       "      <th></th>\n",
       "      <th>x</th>\n",
       "      <th>y_symm</th>\n",
       "      <th>dribbling_towards_opponent_goal</th>\n",
       "      <th>numerical_superiority_10m</th>\n",
       "      <th>calculated_pressure</th>\n",
       "      <th>tagged_pressure</th>\n",
       "    </tr>\n",
       "  </thead>\n",
       "  <tbody>\n",
       "    <tr>\n",
       "      <th>x</th>\n",
       "      <td>1.000000</td>\n",
       "      <td>0.216900</td>\n",
       "      <td>-0.066238</td>\n",
       "      <td>-0.389751</td>\n",
       "      <td>0.287510</td>\n",
       "      <td>0.156815</td>\n",
       "    </tr>\n",
       "    <tr>\n",
       "      <th>y_symm</th>\n",
       "      <td>0.216900</td>\n",
       "      <td>1.000000</td>\n",
       "      <td>-0.073003</td>\n",
       "      <td>-0.062310</td>\n",
       "      <td>0.016630</td>\n",
       "      <td>0.113683</td>\n",
       "    </tr>\n",
       "    <tr>\n",
       "      <th>dribbling_towards_opponent_goal</th>\n",
       "      <td>-0.066238</td>\n",
       "      <td>-0.073003</td>\n",
       "      <td>1.000000</td>\n",
       "      <td>0.104599</td>\n",
       "      <td>-0.123815</td>\n",
       "      <td>-0.017484</td>\n",
       "    </tr>\n",
       "    <tr>\n",
       "      <th>numerical_superiority_10m</th>\n",
       "      <td>-0.389751</td>\n",
       "      <td>-0.062310</td>\n",
       "      <td>0.104599</td>\n",
       "      <td>1.000000</td>\n",
       "      <td>-0.564244</td>\n",
       "      <td>-0.267753</td>\n",
       "    </tr>\n",
       "    <tr>\n",
       "      <th>calculated_pressure</th>\n",
       "      <td>0.287510</td>\n",
       "      <td>0.016630</td>\n",
       "      <td>-0.123815</td>\n",
       "      <td>-0.564244</td>\n",
       "      <td>1.000000</td>\n",
       "      <td>0.432128</td>\n",
       "    </tr>\n",
       "    <tr>\n",
       "      <th>tagged_pressure</th>\n",
       "      <td>0.156815</td>\n",
       "      <td>0.113683</td>\n",
       "      <td>-0.017484</td>\n",
       "      <td>-0.267753</td>\n",
       "      <td>0.432128</td>\n",
       "      <td>1.000000</td>\n",
       "    </tr>\n",
       "  </tbody>\n",
       "</table>\n",
       "</div>"
      ],
      "text/plain": [
       "                                        x    y_symm  \\\n",
       "x                                1.000000  0.216900   \n",
       "y_symm                           0.216900  1.000000   \n",
       "dribbling_towards_opponent_goal -0.066238 -0.073003   \n",
       "numerical_superiority_10m       -0.389751 -0.062310   \n",
       "calculated_pressure              0.287510  0.016630   \n",
       "tagged_pressure                  0.156815  0.113683   \n",
       "\n",
       "                                 dribbling_towards_opponent_goal  \\\n",
       "x                                                      -0.066238   \n",
       "y_symm                                                 -0.073003   \n",
       "dribbling_towards_opponent_goal                         1.000000   \n",
       "numerical_superiority_10m                               0.104599   \n",
       "calculated_pressure                                    -0.123815   \n",
       "tagged_pressure                                        -0.017484   \n",
       "\n",
       "                                 numerical_superiority_10m  \\\n",
       "x                                                -0.389751   \n",
       "y_symm                                           -0.062310   \n",
       "dribbling_towards_opponent_goal                   0.104599   \n",
       "numerical_superiority_10m                         1.000000   \n",
       "calculated_pressure                              -0.564244   \n",
       "tagged_pressure                                  -0.267753   \n",
       "\n",
       "                                 calculated_pressure  tagged_pressure  \n",
       "x                                           0.287510         0.156815  \n",
       "y_symm                                      0.016630         0.113683  \n",
       "dribbling_towards_opponent_goal            -0.123815        -0.017484  \n",
       "numerical_superiority_10m                  -0.564244        -0.267753  \n",
       "calculated_pressure                         1.000000         0.432128  \n",
       "tagged_pressure                             0.432128         1.000000  "
      ]
     },
     "execution_count": 237,
     "metadata": {},
     "output_type": "execute_result"
    }
   ],
   "source": [
    "### correlation analysis\n",
    "\n",
    "X.corr()"
   ]
  },
  {
   "cell_type": "code",
   "execution_count": 238,
   "metadata": {},
   "outputs": [
    {
     "data": {
      "text/html": [
       "<div>\n",
       "<style scoped>\n",
       "    .dataframe tbody tr th:only-of-type {\n",
       "        vertical-align: middle;\n",
       "    }\n",
       "\n",
       "    .dataframe tbody tr th {\n",
       "        vertical-align: top;\n",
       "    }\n",
       "\n",
       "    .dataframe thead th {\n",
       "        text-align: right;\n",
       "    }\n",
       "</style>\n",
       "<table border=\"1\" class=\"dataframe\">\n",
       "  <thead>\n",
       "    <tr style=\"text-align: right;\">\n",
       "      <th></th>\n",
       "      <th>x</th>\n",
       "      <th>y</th>\n",
       "      <th>y_symm</th>\n",
       "      <th>dribbling_towards_opponent_goal</th>\n",
       "      <th>numerical_superiority_5m</th>\n",
       "      <th>numerical_superiority_10m</th>\n",
       "      <th>opponents_within_5m</th>\n",
       "      <th>opponents_within_10m</th>\n",
       "      <th>calculated_pressure</th>\n",
       "      <th>tagged_pressure</th>\n",
       "    </tr>\n",
       "  </thead>\n",
       "  <tbody>\n",
       "    <tr>\n",
       "      <th>x</th>\n",
       "      <td>1.000000</td>\n",
       "      <td>0.018659</td>\n",
       "      <td>0.216900</td>\n",
       "      <td>-0.066238</td>\n",
       "      <td>-0.278759</td>\n",
       "      <td>-0.389751</td>\n",
       "      <td>0.237949</td>\n",
       "      <td>0.318975</td>\n",
       "      <td>0.287510</td>\n",
       "      <td>0.156815</td>\n",
       "    </tr>\n",
       "    <tr>\n",
       "      <th>y</th>\n",
       "      <td>0.018659</td>\n",
       "      <td>1.000000</td>\n",
       "      <td>-0.007649</td>\n",
       "      <td>0.030247</td>\n",
       "      <td>-0.008948</td>\n",
       "      <td>-0.009059</td>\n",
       "      <td>0.009621</td>\n",
       "      <td>0.009936</td>\n",
       "      <td>0.013561</td>\n",
       "      <td>-0.005552</td>\n",
       "    </tr>\n",
       "    <tr>\n",
       "      <th>y_symm</th>\n",
       "      <td>0.216900</td>\n",
       "      <td>-0.007649</td>\n",
       "      <td>1.000000</td>\n",
       "      <td>-0.073003</td>\n",
       "      <td>-0.060863</td>\n",
       "      <td>-0.062310</td>\n",
       "      <td>0.019300</td>\n",
       "      <td>-0.016319</td>\n",
       "      <td>0.016630</td>\n",
       "      <td>0.113683</td>\n",
       "    </tr>\n",
       "    <tr>\n",
       "      <th>dribbling_towards_opponent_goal</th>\n",
       "      <td>-0.066238</td>\n",
       "      <td>0.030247</td>\n",
       "      <td>-0.073003</td>\n",
       "      <td>1.000000</td>\n",
       "      <td>0.109911</td>\n",
       "      <td>0.104599</td>\n",
       "      <td>-0.104921</td>\n",
       "      <td>-0.123134</td>\n",
       "      <td>-0.123815</td>\n",
       "      <td>-0.017484</td>\n",
       "    </tr>\n",
       "    <tr>\n",
       "      <th>numerical_superiority_5m</th>\n",
       "      <td>-0.278759</td>\n",
       "      <td>-0.008948</td>\n",
       "      <td>-0.060863</td>\n",
       "      <td>0.109911</td>\n",
       "      <td>1.000000</td>\n",
       "      <td>0.516501</td>\n",
       "      <td>-0.852839</td>\n",
       "      <td>-0.544666</td>\n",
       "      <td>-0.715933</td>\n",
       "      <td>-0.349086</td>\n",
       "    </tr>\n",
       "    <tr>\n",
       "      <th>numerical_superiority_10m</th>\n",
       "      <td>-0.389751</td>\n",
       "      <td>-0.009059</td>\n",
       "      <td>-0.062310</td>\n",
       "      <td>0.104599</td>\n",
       "      <td>0.516501</td>\n",
       "      <td>1.000000</td>\n",
       "      <td>-0.433367</td>\n",
       "      <td>-0.702378</td>\n",
       "      <td>-0.564244</td>\n",
       "      <td>-0.267753</td>\n",
       "    </tr>\n",
       "    <tr>\n",
       "      <th>opponents_within_5m</th>\n",
       "      <td>0.237949</td>\n",
       "      <td>0.009621</td>\n",
       "      <td>0.019300</td>\n",
       "      <td>-0.104921</td>\n",
       "      <td>-0.852839</td>\n",
       "      <td>-0.433367</td>\n",
       "      <td>1.000000</td>\n",
       "      <td>0.688792</td>\n",
       "      <td>0.877726</td>\n",
       "      <td>0.386049</td>\n",
       "    </tr>\n",
       "    <tr>\n",
       "      <th>opponents_within_10m</th>\n",
       "      <td>0.318975</td>\n",
       "      <td>0.009936</td>\n",
       "      <td>-0.016319</td>\n",
       "      <td>-0.123134</td>\n",
       "      <td>-0.544666</td>\n",
       "      <td>-0.702378</td>\n",
       "      <td>0.688792</td>\n",
       "      <td>1.000000</td>\n",
       "      <td>0.861674</td>\n",
       "      <td>0.344960</td>\n",
       "    </tr>\n",
       "    <tr>\n",
       "      <th>calculated_pressure</th>\n",
       "      <td>0.287510</td>\n",
       "      <td>0.013561</td>\n",
       "      <td>0.016630</td>\n",
       "      <td>-0.123815</td>\n",
       "      <td>-0.715933</td>\n",
       "      <td>-0.564244</td>\n",
       "      <td>0.877726</td>\n",
       "      <td>0.861674</td>\n",
       "      <td>1.000000</td>\n",
       "      <td>0.432128</td>\n",
       "    </tr>\n",
       "    <tr>\n",
       "      <th>tagged_pressure</th>\n",
       "      <td>0.156815</td>\n",
       "      <td>-0.005552</td>\n",
       "      <td>0.113683</td>\n",
       "      <td>-0.017484</td>\n",
       "      <td>-0.349086</td>\n",
       "      <td>-0.267753</td>\n",
       "      <td>0.386049</td>\n",
       "      <td>0.344960</td>\n",
       "      <td>0.432128</td>\n",
       "      <td>1.000000</td>\n",
       "    </tr>\n",
       "  </tbody>\n",
       "</table>\n",
       "</div>"
      ],
      "text/plain": [
       "                                        x         y    y_symm  \\\n",
       "x                                1.000000  0.018659  0.216900   \n",
       "y                                0.018659  1.000000 -0.007649   \n",
       "y_symm                           0.216900 -0.007649  1.000000   \n",
       "dribbling_towards_opponent_goal -0.066238  0.030247 -0.073003   \n",
       "numerical_superiority_5m        -0.278759 -0.008948 -0.060863   \n",
       "numerical_superiority_10m       -0.389751 -0.009059 -0.062310   \n",
       "opponents_within_5m              0.237949  0.009621  0.019300   \n",
       "opponents_within_10m             0.318975  0.009936 -0.016319   \n",
       "calculated_pressure              0.287510  0.013561  0.016630   \n",
       "tagged_pressure                  0.156815 -0.005552  0.113683   \n",
       "\n",
       "                                 dribbling_towards_opponent_goal  \\\n",
       "x                                                      -0.066238   \n",
       "y                                                       0.030247   \n",
       "y_symm                                                 -0.073003   \n",
       "dribbling_towards_opponent_goal                         1.000000   \n",
       "numerical_superiority_5m                                0.109911   \n",
       "numerical_superiority_10m                               0.104599   \n",
       "opponents_within_5m                                    -0.104921   \n",
       "opponents_within_10m                                   -0.123134   \n",
       "calculated_pressure                                    -0.123815   \n",
       "tagged_pressure                                        -0.017484   \n",
       "\n",
       "                                 numerical_superiority_5m  \\\n",
       "x                                               -0.278759   \n",
       "y                                               -0.008948   \n",
       "y_symm                                          -0.060863   \n",
       "dribbling_towards_opponent_goal                  0.109911   \n",
       "numerical_superiority_5m                         1.000000   \n",
       "numerical_superiority_10m                        0.516501   \n",
       "opponents_within_5m                             -0.852839   \n",
       "opponents_within_10m                            -0.544666   \n",
       "calculated_pressure                             -0.715933   \n",
       "tagged_pressure                                 -0.349086   \n",
       "\n",
       "                                 numerical_superiority_10m  \\\n",
       "x                                                -0.389751   \n",
       "y                                                -0.009059   \n",
       "y_symm                                           -0.062310   \n",
       "dribbling_towards_opponent_goal                   0.104599   \n",
       "numerical_superiority_5m                          0.516501   \n",
       "numerical_superiority_10m                         1.000000   \n",
       "opponents_within_5m                              -0.433367   \n",
       "opponents_within_10m                             -0.702378   \n",
       "calculated_pressure                              -0.564244   \n",
       "tagged_pressure                                  -0.267753   \n",
       "\n",
       "                                 opponents_within_5m  opponents_within_10m  \\\n",
       "x                                           0.237949              0.318975   \n",
       "y                                           0.009621              0.009936   \n",
       "y_symm                                      0.019300             -0.016319   \n",
       "dribbling_towards_opponent_goal            -0.104921             -0.123134   \n",
       "numerical_superiority_5m                   -0.852839             -0.544666   \n",
       "numerical_superiority_10m                  -0.433367             -0.702378   \n",
       "opponents_within_5m                         1.000000              0.688792   \n",
       "opponents_within_10m                        0.688792              1.000000   \n",
       "calculated_pressure                         0.877726              0.861674   \n",
       "tagged_pressure                             0.386049              0.344960   \n",
       "\n",
       "                                 calculated_pressure  tagged_pressure  \n",
       "x                                           0.287510         0.156815  \n",
       "y                                           0.013561        -0.005552  \n",
       "y_symm                                      0.016630         0.113683  \n",
       "dribbling_towards_opponent_goal            -0.123815        -0.017484  \n",
       "numerical_superiority_5m                   -0.715933        -0.349086  \n",
       "numerical_superiority_10m                  -0.564244        -0.267753  \n",
       "opponents_within_5m                         0.877726         0.386049  \n",
       "opponents_within_10m                        0.861674         0.344960  \n",
       "calculated_pressure                         1.000000         0.432128  \n",
       "tagged_pressure                             0.432128         1.000000  "
      ]
     },
     "execution_count": 238,
     "metadata": {},
     "output_type": "execute_result"
    }
   ],
   "source": [
    "features_longlist = ['x',\"y\", \"y_symm\",\n",
    "            \"dribbling_towards_opponent_goal\", \"numerical_superiority_5m\", \n",
    "                     \"numerical_superiority_10m\", \"opponents_within_5m\", \"opponents_within_10m\",\n",
    "                     \"calculated_pressure\", \"tagged_pressure\"]\n",
    "correlations = carries[features_longlist].corr()\n",
    "correlations.to_excel(\"correlations.xlsx\")\n",
    "correlations"
   ]
  },
  {
   "cell_type": "code",
   "execution_count": 239,
   "metadata": {},
   "outputs": [],
   "source": [
    "### Predicting the classes and class probailities for the test data events\n",
    "\n",
    "pred_class = xgb_model.predict(X_test)\n",
    "pred_probs = xgb_model.predict_proba(X_test)"
   ]
  },
  {
   "cell_type": "code",
   "execution_count": 240,
   "metadata": {},
   "outputs": [
    {
     "name": "stdout",
     "output_type": "stream",
     "text": [
      "              precision    recall  f1-score   support\n",
      "\n",
      "         0.0       0.26      0.22      0.24      1481\n",
      "         1.0       0.91      0.92      0.92     12518\n",
      "\n",
      "    accuracy                           0.85     13999\n",
      "   macro avg       0.58      0.57      0.58     13999\n",
      "weighted avg       0.84      0.85      0.85     13999\n",
      "\n",
      "[[  331  1150]\n",
      " [  950 11568]]\n"
     ]
    },
    {
     "data": {
      "text/plain": [
       "0.9167855444602948"
      ]
     },
     "execution_count": 240,
     "metadata": {},
     "output_type": "execute_result"
    }
   ],
   "source": [
    "def confusion_matrix_eval(y_truth, y_pred):\n",
    "    cm = confusion_matrix(y_truth, y_pred)\n",
    "    cr = classification_report(y_truth, y_pred)\n",
    "    print(cr)\n",
    "    print(cm)\n",
    "confusion_matrix_eval(y_test, pred_class)\n",
    "f1_score(y_test, pred_class)"
   ]
  },
  {
   "cell_type": "code",
   "execution_count": 241,
   "metadata": {},
   "outputs": [
    {
     "data": {
      "text/plain": [
       "0.9084934638188442"
      ]
     },
     "execution_count": 241,
     "metadata": {},
     "output_type": "execute_result"
    }
   ],
   "source": [
    "pred_class.mean()"
   ]
  },
  {
   "cell_type": "code",
   "execution_count": 242,
   "metadata": {},
   "outputs": [
    {
     "data": {
      "text/plain": [
       "12718"
      ]
     },
     "execution_count": 242,
     "metadata": {},
     "output_type": "execute_result"
    }
   ],
   "source": [
    "pred_class.sum()"
   ]
  },
  {
   "cell_type": "code",
   "execution_count": 243,
   "metadata": {},
   "outputs": [
    {
     "data": {
      "text/plain": [
       "Outcome    0.894207\n",
       "dtype: float64"
      ]
     },
     "execution_count": 243,
     "metadata": {},
     "output_type": "execute_result"
    }
   ],
   "source": [
    "y_test.mean()"
   ]
  },
  {
   "cell_type": "code",
   "execution_count": 244,
   "metadata": {},
   "outputs": [
    {
     "data": {
      "text/plain": [
       "12718"
      ]
     },
     "execution_count": 244,
     "metadata": {},
     "output_type": "execute_result"
    }
   ],
   "source": [
    "xgb_model.predict(X_test).sum()\n"
   ]
  },
  {
   "cell_type": "markdown",
   "metadata": {},
   "source": [
    "Evaluation shows that pressure is most important for carry success. Numerical superiority and location on the pitch is important as well, the dribbling direction is less important. All feature values influence the model as expected: Higher pressure, numerical minority and being close to the opponents goal for instance reduce the success of a carry."
   ]
  },
  {
   "cell_type": "code",
   "execution_count": 245,
   "metadata": {},
   "outputs": [],
   "source": [
    "### explainability of the XGBoost model: Shapley values\n",
    "\n",
    "\n",
    "file_name = \"xgboost_shap_values.pkl\"\n",
    "#if os.path.exists(file_name):\n",
    "#    shap_values = pickle.load(open(file_name, \"rb\"))\n",
    "#else:\n",
    "explainer = shap.TreeExplainer(xgb_model)\n",
    "shap_values = explainer.shap_values(X_train)\n",
    "#pickle.dump(shap_values, open(file_name, \"wb\"))\n"
   ]
  },
  {
   "cell_type": "code",
   "execution_count": 246,
   "metadata": {},
   "outputs": [],
   "source": [
    "# Define custom colors\n",
    "orange =  (240/255, 125/255, 0)\n",
    "blue = (0/255, 60/255, 80/255)\n",
    "colors = [blue,orange]  # Blue to orange\n",
    "\n",
    "# Create a custom colormap\n",
    "custom_cmap = mcolors.LinearSegmentedColormap.from_list('custom_cmap', colors)"
   ]
  },
  {
   "cell_type": "code",
   "execution_count": 247,
   "metadata": {},
   "outputs": [
    {
     "data": {
      "image/png": "[encoded data removed]",
      "text/plain": [
       "<Figure size 800x390 with 2 Axes>"
      ]
     },
     "metadata": {},
     "output_type": "display_data"
    }
   ],
   "source": [
    "plt_shap = shap.summary_plot(shap_values,\n",
    "                            features=X_train,\n",
    "                            feature_names=X_train.columns,\n",
    "                            cmap=custom_cmap,\n",
    "                            show=False)\n",
    "\n",
    "\n",
    "plt.savefig(\"graphics/shap_summary.png\", dpi = 3000)\n",
    "plt.xlabel('SHAP value (impact on model output)', fontsize=11.5)\n",
    "plt.show()"
   ]
  },
  {
   "cell_type": "code",
   "execution_count": 248,
   "metadata": {},
   "outputs": [
    {
     "data": {
      "image/png": "[encoded data removed]",
      "text/plain": [
       "<Figure size 800x390 with 1 Axes>"
      ]
     },
     "metadata": {},
     "output_type": "display_data"
    }
   ],
   "source": [
    "plt_shap = shap.summary_plot(shap_values,\n",
    "                             features=X_train,\n",
    "                             feature_names=X_train.columns,\n",
    "                            plot_type = \"bar\",\n",
    "                            color=blue,\n",
    "                            show=False)\n",
    "plt.xlabel('mean(|SHAP value|) (average impact on model magnitude)', fontsize=11.5)\n",
    "plt.savefig(\"graphics/shap_columns.png\", bbox_inches='tight', dpi = 3000)\n",
    "plt.show()"
   ]
  },
  {
   "cell_type": "code",
   "execution_count": 249,
   "metadata": {},
   "outputs": [],
   "source": [
    "### predicting the outcome classes and probabilities for all carries in the dataset\n",
    "\n",
    "pred_class = xgb_model.predict(X)\n",
    "pred_probs = xgb_model.predict_proba(X)\n",
    "\n",
    "carries['Outcome_Prediction'] = pred_class\n",
    "carries['Risk'] = pred_probs[:,0] # extracting failure probability as risk\n",
    "carries['Prob_Success'] = pred_probs[:,1]"
   ]
  },
  {
   "cell_type": "markdown",
   "metadata": {},
   "source": [
    "Note: We had no access to publicly available tracking data (for the investigated matches). That could have helped investigate the success of dribblings here such as in https://doi.org/10.1080/24733938.2023.2239766. The methodoligy would stay the same though."
   ]
  },
  {
   "cell_type": "markdown",
   "metadata": {},
   "source": [
    "# Evaluating value of carry <a class='anchor' id='value'></a>\n",
    "Having obtained a measure for the risk of a carry, we now determine the value of a carry. This is done based on the advance towards goal as well as change in opponent pressure contributed by the carry."
   ]
  },
  {
   "cell_type": "code",
   "execution_count": 250,
   "metadata": {},
   "outputs": [],
   "source": [
    "carries[\"advance_diff\"] = np.sqrt((carries.x - 120)**2+(carries.y - 40)**2)  - np.sqrt((carries.end_x - 120)**2+(carries.end_y - 40)**2) \n",
    "carries[\"advance_diff\"] = np.where((carries[\"end_x\"]==0) & (0==carries[\"end_y\"]), 0, carries[\"advance_diff\"])"
   ]
  },
  {
   "cell_type": "code",
   "execution_count": 251,
   "metadata": {},
   "outputs": [
    {
     "name": "stdout",
     "output_type": "stream",
     "text": [
      "Summary: Pressure Delta\n",
      "-2.849121711543431\n",
      "0.05366259796650932\n",
      "2.5713006626180253\n",
      "Summary: Advance (difference)\n",
      "-37.87466654634308\n",
      "2.002676412147157\n",
      "64.61564257530705\n"
     ]
    }
   ],
   "source": [
    "### summary of new variables\n",
    "\n",
    "print(\"Summary: Pressure Delta\")\n",
    "print(np.min(carries['Pressure_Delta']))\n",
    "print(np.mean(carries['Pressure_Delta']))\n",
    "print(np.max(carries['Pressure_Delta']))\n",
    "print(\"Summary: Advance (difference)\")\n",
    "print(np.min(carries['advance_diff']))\n",
    "print(np.mean(carries['advance_diff']))\n",
    "print(np.max(carries['advance_diff']))\n"
   ]
  },
  {
   "cell_type": "code",
   "execution_count": 252,
   "metadata": {},
   "outputs": [],
   "source": [
    "def normalize(data_series):\n",
    "    # Min-max normalization\n",
    "    min_value = np.min(data_series)\n",
    "    max_value = np.max(data_series)\n",
    "    normalized_series = (data_series - min_value) / (max_value - min_value)\n",
    "    return normalized_series\n"
   ]
  },
  {
   "cell_type": "code",
   "execution_count": 253,
   "metadata": {},
   "outputs": [],
   "source": [
    "# Normalizing the new variables to constitute the normed pressure delta and advance metric variables\n",
    "carries['Pressure_Delta_Norm'] = normalize(carries['Pressure_Delta'] )\n",
    "carries['Advance_Metric_Norm'] = normalize(carries['advance_diff'] )\n"
   ]
  },
  {
   "cell_type": "markdown",
   "metadata": {},
   "source": [
    "# expected threat"
   ]
  },
  {
   "cell_type": "markdown",
   "metadata": {},
   "source": [
    "The expected threat matrix was trained in another notebook on all availabe statsbomb data (a huge amount of data is crucial for an underlying xt-matrix)."
   ]
  },
  {
   "cell_type": "code",
   "execution_count": 254,
   "metadata": {},
   "outputs": [],
   "source": [
    "def expected_threat_gain(x1: float or pd.Series, y1: float or pd.Series, x2: float or pd.Series,\n",
    "                         y2: float or pd.Series, pressure_indicator:str) -> float or pd.Series:\n",
    "    \"\"\"\n",
    "    Resets Index!\n",
    "    Calculate the expected threat gain between (x1,y1) and (x2,y2)  for a statsbomb pitch\n",
    "\n",
    "    :param x1: value or series/list of values of x coordinates (player1/ball)\n",
    "    :param y1: value or series/list of values of y coordinates (player1/ball)\n",
    "    :param x2: value or series/list of values of x coordinates (player2/ball)\n",
    "    :param y2: value or series/list of values of y coordinates (player2/ball)\n",
    "\n",
    "    :return: int or list/pd.Series of int (if list/pd.Series is given)\n",
    "    \"\"\"\n",
    "    return expected_threat(x2, y2, use_pressure_matrix) - expected_threat(x1, y1,use_pressure_matrix)\n",
    "\n",
    "\n",
    "def expected_threat(x1: float or pd.Series, y1: float or pd.Series, pressure_indicator:str) -> float or pd.Series:\n",
    "    \"\"\"\n",
    "    Calculate the expected threat gain of (x1,y1) for a statsbomb pitch\n",
    "\n",
    "    :param x1: value or series/list of values of x coordinates (player1/ball)\n",
    "    :param y1: value or series/list of values of y coordinates (player1/ball)\n",
    "\n",
    "\n",
    "    :return: int or list/pd.Series of int (if list/pd.Series is given)\n",
    "    \"\"\"\n",
    "    if pressure_indicator == \"pressure\":\n",
    "        xt_matrix = pd.read_csv(\"xT_pressure_women.csv\", index_col=0)\n",
    "    elif pressure_indicator == \"no_pressure\":\n",
    "        xt_matrix = pd.read_csv(\"xT_no_pressure_women.csv\", index_col=0)\n",
    "    elif pressure_indicator == \"unknown\":\n",
    "        xt_matrix = pd.read_csv(\"xT_general_women.csv\", index_col=0)\n",
    "    else:\n",
    "        raise Exception(\"Value not valid!\")\n",
    "        \n",
    "    pitch_x_start = 0\n",
    "    pitch_x_end = 120\n",
    "    pitch_y_start = 0\n",
    "    pitch_y_end = 80\n",
    "\n",
    "    n_bins_x = xt_matrix.shape[1]\n",
    "    n_bins_y = xt_matrix.shape[0]\n",
    "\n",
    "    bin_size_x = (pitch_x_end - pitch_x_start) / n_bins_x\n",
    "    bin_size_y = (pitch_y_end - pitch_y_start) / n_bins_y\n",
    "    bin_x_borders = [pitch_x_start + bin_size_x * i for i in range(n_bins_x + 1)]\n",
    "    bin_y_borders = [pitch_y_start + bin_size_y * i for i in range(n_bins_y + 1)]\n",
    "\n",
    "    x_bins = pd.cut(x1, bin_x_borders, include_lowest=True).apply(lambda x: x.left).astype(float)\n",
    "    x_bins = np.round(x_bins / bin_size_x)\n",
    "    y_bins = pd.cut(y1, bin_y_borders, include_lowest=True).apply(lambda x: x.left).astype(float)\n",
    "    y_bins = np.round(y_bins / bin_size_y)\n",
    "\n",
    "    df_melt = xt_matrix.rename_axis('y').reset_index().melt(id_vars='y', var_name='x', value_name='xt')\n",
    "    rel_bin = pd.DataFrame([x_bins, y_bins]).T\n",
    "    rel_bin.columns = [\"x\", \"y\"]\n",
    "    rel_bin[\"x\"] = rel_bin[\"x\"].astype(float)\n",
    "    rel_bin[\"y\"] = rel_bin[\"y\"].astype(float)\n",
    "    df_melt[\"x\"] = df_melt[\"x\"].astype(float)\n",
    "    df_melt[\"y\"] = df_melt[\"y\"].astype(float)\n",
    "    xt_result = rel_bin.merge(df_melt, on = (\"x\", \"y\"), how = \"left\", validate = \"many_to_one\")\n",
    "\n",
    "    xt_vals = np.where((x1==0) &(y1==0), np.nan, xt_result[\"xt\"].values)\n",
    "    return xt_vals"
   ]
  },
  {
   "cell_type": "code",
   "execution_count": 255,
   "metadata": {},
   "outputs": [],
   "source": [
    "def get_expected_threat_next_best_field(x1: float or pd.Series, y1: float or pd.Series, use_pressure_matrix=True) -> float or pd.Series:\n",
    "    \"\"\"\n",
    "    Calculate the possible expected threat of (x1,y1) for a statsbomb pitch after a successful carry\n",
    "    \n",
    "    Assumption: player gets to the next best bin (closer to the goal)    \n",
    "\n",
    "    :param x1: value or series/list of values of x coordinates (player1/ball)\n",
    "    :param y1: value or series/list of values of y coordinates (player1/ball)\n",
    "\n",
    "\n",
    "    :return: int or list/pd.Series of int (if list/pd.Series is given)\n",
    "    \"\"\"\n",
    "    \n",
    "    if use_pressure_matrix:\n",
    "        xt_matrix = pd.read_csv(\"xT_pressure_women.csv\", index_col=0)\n",
    "    else:\n",
    "        xt_matrix = pd.read_csv(\"xT_no_pressure_women.csv\", index_col=0)\n",
    "    pitch_x_start = 0\n",
    "    pitch_x_end = 120\n",
    "    pitch_y_start = 0\n",
    "    pitch_y_end = 80\n",
    "\n",
    "    n_bins_x = xt_matrix.shape[1]\n",
    "    n_bins_y = xt_matrix.shape[0]\n",
    "    bin_size_x = (pitch_x_end - pitch_x_start) / n_bins_x\n",
    "    bin_size_y = (pitch_y_end - pitch_y_start) / n_bins_y\n",
    "    \n",
    "    x1 = np.where(x1 + bin_size_x < pitch_x_end, x1 + bin_size_x, x1)\n",
    "    y1 = np.where(y1 < pitch_y_end/2, y1 + bin_size_y, y1 - bin_size_y)\n",
    "    return expected_threat(pd.Series(x1), pd.Series(y1),use_pressure_matrix)"
   ]
  },
  {
   "cell_type": "code",
   "execution_count": 256,
   "metadata": {},
   "outputs": [],
   "source": [
    "def get_expected_threat_opposition(x1: float or pd.Series, y1: float or pd.Series, use_pressure_matrix=True) -> float or pd.Series:\n",
    "    \"\"\"\n",
    "    Calculate the possible expected threat of (x1,y1) for a statsbomb pitch after a successful carry\n",
    "    \n",
    "    Assumption: player gets to the next best bin (closer to the goal)    \n",
    "\n",
    "    :param x1: value or series/list of values of x coordinates (player1/ball)\n",
    "    :param y1: value or series/list of values of y coordinates (player1/ball)\n",
    "\n",
    "\n",
    "    :return: int or list/pd.Series of int (if list/pd.Series is given)\n",
    "    \"\"\"\n",
    "\n",
    "    pitch_x_end = 120\n",
    "    \n",
    "    x1 = pitch_x_end - x1\n",
    "    return expected_threat(pd.Series(x1), pd.Series(y1), use_pressure_matrix)"
   ]
  },
  {
   "cell_type": "markdown",
   "metadata": {},
   "source": [
    "xt_end_punishment = negative xt for giving the ball to the opponent team"
   ]
  },
  {
   "cell_type": "code",
   "execution_count": 257,
   "metadata": {},
   "outputs": [],
   "source": [
    "carries[\"xT_start\"] = expected_threat(carries[\"x\"], carries[\"y\"], \"pressure\")*carries['tagged_pressure'] + (\n",
    "                        expected_threat(carries[\"x\"], carries[\"y\"], \"no_pressure\") * (1-carries['tagged_pressure']))\n",
    "    \n",
    "carries[\"xT_end_if_successful\"] = expected_threat(carries[\"end_x\"], carries[\"end_y\"], \"unknown\")\n",
    "carries[\"xT_end\"] = np.where(carries[\"Outcome\"]==1, carries[\"xT_end_if_successful\"], 0)\n",
    "\n",
    "# assumption: when losing the ball in a dribble, one immediately sets the opponent under pressure\n",
    "carries[\"xT_end_if_loss\"] = -expected_threat(120 - carries[\"end_x\"], carries[\"end_y\"], \"pressure\")\n",
    "\n",
    "carries[\"xT_end_incl_punishment\"] = np.where(carries[\"Outcome\"]==1, carries[\"xT_end\"], carries[\"xT_end_if_loss\"])\n",
    "carries[\"xT_gain\"] = carries[\"xT_end\"] - carries[\"xT_start\"]\n",
    "carries[\"xT_gain_nonnegative\"] = carries[\"xT_gain\"].clip(lower=0)\n",
    "carries[\"xT_gain_successful_dribbles\"] = np.where(carries[\"Outcome\"]==1, carries[\"xT_gain\"], 0)\n",
    "carries[\"xT_gain_incl_punishment\"] = carries[\"xT_end_incl_punishment\"] - carries[\"xT_start\"]\n",
    "carries[\"Expected_XT_Gain\"] = carries[\"Prob_Success\"] * (carries[\"xT_end_if_successful\"] - carries[\"xT_start\"]) + (\n",
    "    1-carries[\"Prob_Success\"]) * (carries[\"xT_end_if_loss\"] - carries[\"xT_start\"])\n",
    "carries[\"XT_Gain_over_Expectation\"] = carries[\"xT_gain\"] - carries[\"Expected_XT_Gain\"] \n"
   ]
  },
  {
   "cell_type": "code",
   "execution_count": 258,
   "metadata": {},
   "outputs": [],
   "source": [
    "carries['xt_norm'] = normalize(carries['xT_gain'] )\n",
    "carries[\"num_carries\"] = 1\n",
    "carries[\"Outcome_over_Risk\"] = carries[\"Outcome\"] - (1-carries[\"Risk\"])"
   ]
  },
  {
   "cell_type": "markdown",
   "metadata": {},
   "source": [
    "# opponents behind ball"
   ]
  },
  {
   "cell_type": "markdown",
   "metadata": {},
   "source": [
    "We tried to evaluate how many players were taken out of play by a dribbling. Unfortunately, the given position data is not sufficient for such analysis."
   ]
  },
  {
   "cell_type": "code",
   "execution_count": 259,
   "metadata": {},
   "outputs": [
    {
     "data": {
      "text/html": [
       "<div>\n",
       "<style scoped>\n",
       "    .dataframe tbody tr th:only-of-type {\n",
       "        vertical-align: middle;\n",
       "    }\n",
       "\n",
       "    .dataframe tbody tr th {\n",
       "        vertical-align: top;\n",
       "    }\n",
       "\n",
       "    .dataframe thead th {\n",
       "        text-align: right;\n",
       "    }\n",
       "</style>\n",
       "<table border=\"1\" class=\"dataframe\">\n",
       "  <thead>\n",
       "    <tr style=\"text-align: right;\">\n",
       "      <th></th>\n",
       "      <th>teammate</th>\n",
       "      <th>actor</th>\n",
       "      <th>keeper</th>\n",
       "      <th>match_id</th>\n",
       "      <th>id</th>\n",
       "      <th>x</th>\n",
       "      <th>y</th>\n",
       "    </tr>\n",
       "  </thead>\n",
       "  <tbody>\n",
       "    <tr>\n",
       "      <th>0</th>\n",
       "      <td>True</td>\n",
       "      <td>False</td>\n",
       "      <td>False</td>\n",
       "      <td>3904629</td>\n",
       "      <td>53b22deb-dd5b-4da4-b947-39849842adcb</td>\n",
       "      <td>37.798937</td>\n",
       "      <td>58.165658</td>\n",
       "    </tr>\n",
       "    <tr>\n",
       "      <th>1</th>\n",
       "      <td>True</td>\n",
       "      <td>False</td>\n",
       "      <td>False</td>\n",
       "      <td>3904629</td>\n",
       "      <td>53b22deb-dd5b-4da4-b947-39849842adcb</td>\n",
       "      <td>51.328278</td>\n",
       "      <td>37.373574</td>\n",
       "    </tr>\n",
       "    <tr>\n",
       "      <th>2</th>\n",
       "      <td>True</td>\n",
       "      <td>False</td>\n",
       "      <td>False</td>\n",
       "      <td>3904629</td>\n",
       "      <td>53b22deb-dd5b-4da4-b947-39849842adcb</td>\n",
       "      <td>54.316929</td>\n",
       "      <td>48.258707</td>\n",
       "    </tr>\n",
       "    <tr>\n",
       "      <th>3</th>\n",
       "      <td>True</td>\n",
       "      <td>False</td>\n",
       "      <td>False</td>\n",
       "      <td>3904629</td>\n",
       "      <td>53b22deb-dd5b-4da4-b947-39849842adcb</td>\n",
       "      <td>56.085791</td>\n",
       "      <td>27.439534</td>\n",
       "    </tr>\n",
       "    <tr>\n",
       "      <th>4</th>\n",
       "      <td>True</td>\n",
       "      <td>False</td>\n",
       "      <td>False</td>\n",
       "      <td>3904629</td>\n",
       "      <td>53b22deb-dd5b-4da4-b947-39849842adcb</td>\n",
       "      <td>60.706506</td>\n",
       "      <td>74.971568</td>\n",
       "    </tr>\n",
       "    <tr>\n",
       "      <th>...</th>\n",
       "      <td>...</td>\n",
       "      <td>...</td>\n",
       "      <td>...</td>\n",
       "      <td>...</td>\n",
       "      <td>...</td>\n",
       "      <td>...</td>\n",
       "      <td>...</td>\n",
       "    </tr>\n",
       "    <tr>\n",
       "      <th>49591</th>\n",
       "      <td>True</td>\n",
       "      <td>False</td>\n",
       "      <td>False</td>\n",
       "      <td>3893793</td>\n",
       "      <td>26aeb07d-25ba-43b2-98d5-5b73e178e29f</td>\n",
       "      <td>17.814067</td>\n",
       "      <td>25.796146</td>\n",
       "    </tr>\n",
       "    <tr>\n",
       "      <th>49592</th>\n",
       "      <td>True</td>\n",
       "      <td>False</td>\n",
       "      <td>False</td>\n",
       "      <td>3893793</td>\n",
       "      <td>26aeb07d-25ba-43b2-98d5-5b73e178e29f</td>\n",
       "      <td>18.620464</td>\n",
       "      <td>45.879493</td>\n",
       "    </tr>\n",
       "    <tr>\n",
       "      <th>49593</th>\n",
       "      <td>True</td>\n",
       "      <td>False</td>\n",
       "      <td>False</td>\n",
       "      <td>3893793</td>\n",
       "      <td>26aeb07d-25ba-43b2-98d5-5b73e178e29f</td>\n",
       "      <td>19.000890</td>\n",
       "      <td>32.195575</td>\n",
       "    </tr>\n",
       "    <tr>\n",
       "      <th>49594</th>\n",
       "      <td>True</td>\n",
       "      <td>False</td>\n",
       "      <td>False</td>\n",
       "      <td>3893793</td>\n",
       "      <td>26aeb07d-25ba-43b2-98d5-5b73e178e29f</td>\n",
       "      <td>21.105126</td>\n",
       "      <td>42.979903</td>\n",
       "    </tr>\n",
       "    <tr>\n",
       "      <th>49595</th>\n",
       "      <td>False</td>\n",
       "      <td>False</td>\n",
       "      <td>False</td>\n",
       "      <td>3893793</td>\n",
       "      <td>26aeb07d-25ba-43b2-98d5-5b73e178e29f</td>\n",
       "      <td>23.335320</td>\n",
       "      <td>39.398769</td>\n",
       "    </tr>\n",
       "  </tbody>\n",
       "</table>\n",
       "<p>2808833 rows × 7 columns</p>\n",
       "</div>"
      ],
      "text/plain": [
       "       teammate  actor  keeper  match_id  \\\n",
       "0          True  False   False   3904629   \n",
       "1          True  False   False   3904629   \n",
       "2          True  False   False   3904629   \n",
       "3          True  False   False   3904629   \n",
       "4          True  False   False   3904629   \n",
       "...         ...    ...     ...       ...   \n",
       "49591      True  False   False   3893793   \n",
       "49592      True  False   False   3893793   \n",
       "49593      True  False   False   3893793   \n",
       "49594      True  False   False   3893793   \n",
       "49595     False  False   False   3893793   \n",
       "\n",
       "                                         id          x          y  \n",
       "0      53b22deb-dd5b-4da4-b947-39849842adcb  37.798937  58.165658  \n",
       "1      53b22deb-dd5b-4da4-b947-39849842adcb  51.328278  37.373574  \n",
       "2      53b22deb-dd5b-4da4-b947-39849842adcb  54.316929  48.258707  \n",
       "3      53b22deb-dd5b-4da4-b947-39849842adcb  56.085791  27.439534  \n",
       "4      53b22deb-dd5b-4da4-b947-39849842adcb  60.706506  74.971568  \n",
       "...                                     ...        ...        ...  \n",
       "49591  26aeb07d-25ba-43b2-98d5-5b73e178e29f  17.814067  25.796146  \n",
       "49592  26aeb07d-25ba-43b2-98d5-5b73e178e29f  18.620464  45.879493  \n",
       "49593  26aeb07d-25ba-43b2-98d5-5b73e178e29f  19.000890  32.195575  \n",
       "49594  26aeb07d-25ba-43b2-98d5-5b73e178e29f  21.105126  42.979903  \n",
       "49595  26aeb07d-25ba-43b2-98d5-5b73e178e29f  23.335320  39.398769  \n",
       "\n",
       "[2808833 rows x 7 columns]"
      ]
     },
     "execution_count": 259,
     "metadata": {},
     "output_type": "execute_result"
    }
   ],
   "source": [
    "frames"
   ]
  },
  {
   "cell_type": "code",
   "execution_count": 260,
   "metadata": {},
   "outputs": [],
   "source": [
    "frames_with_event_pos = frames.merge(events[[\"match_id\", \"id\", \"x\", \"y\", \"end_x\", \"end_y\"]], how = \"left\", on = [\"match_id\", \"id\"],\n",
    "                                    suffixes = (\"_frames\", \"_events\"), validate = \"many_to_one\")"
   ]
  },
  {
   "cell_type": "code",
   "execution_count": 261,
   "metadata": {},
   "outputs": [],
   "source": [
    "# keeper raus, da in einigen Fällen zu sehen aber i.d.R. sowieso hinterm Ball\n",
    "opponents_behind_ball = frames_with_event_pos[(frames_with_event_pos[\"x_frames\"] > frames_with_event_pos[\"x_events\"]) &\n",
    "                                             (~frames_with_event_pos[\"teammate\"]) & (~frames_with_event_pos[\"keeper\"])]"
   ]
  },
  {
   "cell_type": "code",
   "execution_count": 262,
   "metadata": {},
   "outputs": [],
   "source": [
    "number_opponents_per_events = opponents_behind_ball.groupby([\"match_id\", \"id\"], as_index=False)[\"teammate\"].count()\n",
    "number_opponents_per_events.columns = [\"match_id\", \"id\", \"opponents_behind_ball\"]"
   ]
  },
  {
   "cell_type": "markdown",
   "metadata": {},
   "source": [
    "# adding playing time"
   ]
  },
  {
   "cell_type": "code",
   "execution_count": 263,
   "metadata": {},
   "outputs": [
    {
     "name": "stderr",
     "output_type": "stream",
     "text": [
      "100%|██████████████████████████████████████████████████████████████████████████████████| 64/64 [01:30<00:00,  1.41s/it]\n"
     ]
    }
   ],
   "source": [
    "def get_all_players_with_playing_minutes_per_position(match_id: str):\n",
    "    lineups = sb.lineups(match_id)\n",
    "    parser = Sbopen()\n",
    "    events = parser.event(match_id)[0]\n",
    "    max_period = events[\"period\"].max()\n",
    "    if max_period == 4:\n",
    "        end_time = \"120:00\"\n",
    "        full_time = 120\n",
    "    else:\n",
    "        end_time = \"90:00\"\n",
    "        full_time = 90\n",
    "\n",
    "    df_list = list()\n",
    "\n",
    "    for team, lineup in lineups.items():\n",
    "        for idx, row in lineup.iterrows():\n",
    "            df_playing_time = _helper_get_playing_time_per_position(row, end_time)\n",
    "            df_list.append(df_playing_time)\n",
    "    df = pd.concat(df_list)\n",
    "    df[\"playing_time_in_minutes\"] = df[\"playing_time_in_seconds\"] /60\n",
    "    df[\"playing_ratio\"] =  df[\"playing_time_in_minutes\"]/full_time\n",
    "    df.dropna(subset = \"playing_ratio\", inplace=True)\n",
    "    return df\n",
    "\n",
    "\n",
    "def _helper_get_playing_time_per_position(row, end_time)-> pd.DataFrame:\n",
    "    if len(row[\"positions\"]) == 0:\n",
    "        return pd.DataFrame()\n",
    "    df = pd.DataFrame(row[\"positions\"])\n",
    "\n",
    "    df[\"from\"].fillna(\"0:00\", inplace=True)\n",
    "    df[\"to\"].fillna(end_time, inplace=True)\n",
    "    df[\"from_in_seconds\"] = df[\"from\"].str.split(\":\").apply(lambda x: x[0]).astype(int) * 60 + df[\"from\"].str.split(\n",
    "        \":\").apply(lambda x: x[1]).astype(int)\n",
    "    df[\"to_in_seconds\"] = df[\"to\"].str.split(\":\").apply(lambda x: x[0]).astype(int) * 60 + df[\"to\"].str.split(\n",
    "        \":\").apply(lambda x: x[1]).astype(int)\n",
    "    from_in_seconds = df[\"from_in_seconds\"].min()\n",
    "    to_in_seconds = df[\"to_in_seconds\"].max()\n",
    "    df[\"playing_time_in_seconds\"] = (df[\"to_in_seconds\"] - df[\"from_in_seconds\"]).clip(lower=60)\n",
    "    df_playing_time = df.groupby(\"position\", as_index=False).sum()[[\"position\", \"playing_time_in_seconds\"]]\n",
    "    df_playing_time[\"player_id\"] = row[\"player_id\"]\n",
    "    df_playing_time[\"player_name\"] = row[\"player_name\"]\n",
    "    return df_playing_time\n",
    "\n",
    "all_playing_times = list()\n",
    "for match in tqdm(carries[\"match_id\"].unique()):\n",
    "    playing_time = get_all_players_with_playing_minutes_per_position(match)\n",
    "    playing_time[\"match_id\"] = match\n",
    "    all_playing_times.append(playing_time)\n",
    "df_playing_time = pd.concat(all_playing_times)"
   ]
  },
  {
   "cell_type": "code",
   "execution_count": 264,
   "metadata": {},
   "outputs": [
    {
     "data": {
      "text/html": [
       "<div>\n",
       "<style scoped>\n",
       "    .dataframe tbody tr th:only-of-type {\n",
       "        vertical-align: middle;\n",
       "    }\n",
       "\n",
       "    .dataframe tbody tr th {\n",
       "        vertical-align: top;\n",
       "    }\n",
       "\n",
       "    .dataframe thead th {\n",
       "        text-align: right;\n",
       "    }\n",
       "</style>\n",
       "<table border=\"1\" class=\"dataframe\">\n",
       "  <thead>\n",
       "    <tr style=\"text-align: right;\">\n",
       "      <th></th>\n",
       "      <th>position</th>\n",
       "      <th>playing_time_in_seconds</th>\n",
       "      <th>player_id</th>\n",
       "      <th>player_name</th>\n",
       "      <th>playing_time_in_minutes</th>\n",
       "      <th>playing_ratio</th>\n",
       "      <th>match_id</th>\n",
       "    </tr>\n",
       "  </thead>\n",
       "  <tbody>\n",
       "    <tr>\n",
       "      <th>0</th>\n",
       "      <td>Right Center Back</td>\n",
       "      <td>4149</td>\n",
       "      <td>4989</td>\n",
       "      <td>Rebekah Ashley Stott</td>\n",
       "      <td>69.15</td>\n",
       "      <td>0.768333</td>\n",
       "      <td>3893787</td>\n",
       "    </tr>\n",
       "    <tr>\n",
       "      <th>0</th>\n",
       "      <td>Left Center Back</td>\n",
       "      <td>5400</td>\n",
       "      <td>5028</td>\n",
       "      <td>Katie Bowen</td>\n",
       "      <td>90.00</td>\n",
       "      <td>1.000000</td>\n",
       "      <td>3893787</td>\n",
       "    </tr>\n",
       "    <tr>\n",
       "      <th>0</th>\n",
       "      <td>Right Defensive Midfield</td>\n",
       "      <td>5400</td>\n",
       "      <td>18145</td>\n",
       "      <td>Ria Percival</td>\n",
       "      <td>90.00</td>\n",
       "      <td>1.000000</td>\n",
       "      <td>3893787</td>\n",
       "    </tr>\n",
       "  </tbody>\n",
       "</table>\n",
       "</div>"
      ],
      "text/plain": [
       "                   position  playing_time_in_seconds  player_id  \\\n",
       "0         Right Center Back                     4149       4989   \n",
       "0          Left Center Back                     5400       5028   \n",
       "0  Right Defensive Midfield                     5400      18145   \n",
       "\n",
       "            player_name  playing_time_in_minutes  playing_ratio  match_id  \n",
       "0  Rebekah Ashley Stott                    69.15       0.768333   3893787  \n",
       "0           Katie Bowen                    90.00       1.000000   3893787  \n",
       "0          Ria Percival                    90.00       1.000000   3893787  "
      ]
     },
     "execution_count": 264,
     "metadata": {},
     "output_type": "execute_result"
    }
   ],
   "source": [
    "df_playing_time.head(3)"
   ]
  },
  {
   "cell_type": "code",
   "execution_count": 265,
   "metadata": {},
   "outputs": [],
   "source": [
    "df_playing_time_merge = df_playing_time[[\"match_id\", \"player_id\", \"playing_time_in_minutes\", \"position\"]]\n",
    "df_playing_time.to_excel(\"playing_time_per_player_per_match.xlsx\")"
   ]
  },
  {
   "cell_type": "markdown",
   "metadata": {},
   "source": [
    "# store carry data"
   ]
  },
  {
   "cell_type": "code",
   "execution_count": 266,
   "metadata": {},
   "outputs": [],
   "source": [
    "carries.to_excel(\"carries.xlsx\")"
   ]
  }
 ],
 "metadata": {
  "kernelspec": {
   "display_name": "Python 3 (ipykernel)",
   "language": "python",
   "name": "python3"
  },
  "language_info": {
   "codemirror_mode": {
    "name": "ipython",
    "version": 3
   },
   "file_extension": ".py",
   "mimetype": "text/x-python",
   "name": "python",
   "nbconvert_exporter": "python",
   "pygments_lexer": "ipython3",
   "version": "3.11.5"
  }
 },
 "nbformat": 4,
 "nbformat_minor": 4
}
